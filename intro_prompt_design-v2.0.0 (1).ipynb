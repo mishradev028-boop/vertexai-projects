{
 "cells": [
  {
   "cell_type": "code",
   "execution_count": null,
   "metadata": {
    "id": "ur8xi4C7S06n"
   },
   "outputs": [],
   "source": [
    "# Copyright 2025 Google LLC\n",
    "#\n",
    "# Licensed under the Apache License, Version 2.0 (the \"License\");\n",
    "# you may not use this file except in compliance with the License.\n",
    "# You may obtain a copy of the License at\n",
    "#\n",
    "#     https://www.apache.org/licenses/LICENSE-2.0\n",
    "#\n",
    "# Unless required by applicable law or agreed to in writing, software\n",
    "# distributed under the License is distributed on an \"AS IS\" BASIS,\n",
    "# WITHOUT WARRANTIES OR CONDITIONS OF ANY KIND, either express or implied.\n",
    "# See the License for the specific language governing permissions and\n",
    "# limitations under the License."
   ]
  },
  {
   "cell_type": "markdown",
   "metadata": {
    "id": "JAPoU8Sm5E6e"
   },
   "source": [
    "# Prompt Design - Best Practices\n",
    "\n",
    "<table align=\"left\">\n",
    "  <td style=\"text-align: center\">\n",
    "    <a href=\"https://colab.research.google.com/github/GoogleCloudPlatform/generative-ai/blob/main/gemini/prompts/intro_prompt_design.ipynb\">\n",
    "      <img width=\"32px\" src=\"https://www.gstatic.com/pantheon/images/bigquery/welcome_page/colab-logo.svg\" alt=\"Google Colaboratory logo\"><br> Open in Colab\n",
    "    </a>\n",
    "  </td>\n",
    "  <td style=\"text-align: center\">\n",
    "    <a href=\"https://console.cloud.google.com/vertex-ai/colab/import/https:%2F%2Fraw.githubusercontent.com%2FGoogleCloudPlatform%2Fgenerative-ai%2Fmain%2Fgemini%2Fprompts%2Fintro_prompt_design.ipynb\">\n",
    "      <img width=\"32px\" src=\"https://lh3.googleusercontent.com/JmcxdQi-qOpctIvWKgPtrzZdJJK-J3sWE1RsfjZNwshCFgE_9fULcNpuXYTilIR2hjwN\" alt=\"Google Cloud Colab Enterprise logo\"><br> Open in Colab Enterprise\n",
    "    </a>\n",
    "  </td>\n",
    "  <td style=\"text-align: center\">\n",
    "    <a href=\"https://console.cloud.google.com/vertex-ai/workbench/deploy-notebook?download_url=https://raw.githubusercontent.com/GoogleCloudPlatform/generative-ai/main/gemini/prompts/intro_prompt_design.ipynb\">\n",
    "      <img src=\"https://www.gstatic.com/images/branding/gcpiconscolors/vertexai/v1/32px.svg\" alt=\"Vertex AI logo\"><br> Open in Workbench\n",
    "    </a>\n",
    "  </td>\n",
    "  <td style=\"text-align: center\">\n",
    "    <a href=\"https://github.com/GoogleCloudPlatform/generative-ai/blob/main/gemini/prompts/intro_prompt_design.ipynb\">\n",
    "      <img width=\"32px\" src=\"https://www.svgrepo.com/download/217753/github.svg\" alt=\"GitHub logo\"><br> View on GitHub\n",
    "    </a>\n",
    "  </td>\n",
    "  <td style=\"text-align: center\">\n",
    "    <a href=\"https://goo.gle/4fWHlze\">\n",
    "      <img width=\"32px\" src=\"https://cdn.qwiklabs.com/assets/gcp_cloud-e3a77215f0b8bfa9b3f611c0d2208c7e8708ed31.svg\" alt=\"Google Cloud logo\"><br> Open in  Cloud Skills Boost\n",
    "    </a>\n",
    "  </td>\n",
    "</table>\n",
    "\n",
    "<div style=\"clear: both;\"></div>\n",
    "\n",
    "<b>Share to:</b>\n",
    "\n",
    "<a href=\"https://www.linkedin.com/sharing/share-offsite/?url=https%3A//github.com/GoogleCloudPlatform/generative-ai/blob/main/gemini/prompts/intro_prompt_design.ipynb\" target=\"_blank\">\n",
    "  <img width=\"20px\" src=\"https://upload.wikimedia.org/wikipedia/commons/8/81/LinkedIn_icon.svg\" alt=\"LinkedIn logo\">\n",
    "</a>\n",
    "<a href=\"https://bsky.app/intent/compose?text=https%3A//github.com/GoogleCloudPlatform/generative-ai/blob/main/gemini/prompts/intro_prompt_design.ipynb\" target=\"_blank\">\n",
    "  <img width=\"20px\" src=\"https://upload.wikimedia.org/wikipedia/commons/7/7a/Bluesky_Logo.svg\" alt=\"Bluesky logo\">\n",
    "</a>\n",
    "<a href=\"https://twitter.com/intent/tweet?url=https%3A//github.com/GoogleCloudPlatform/generative-ai/blob/main/gemini/prompts/intro_prompt_design.ipynb\" target=\"_blank\">\n",
    "  <img width=\"20px\" src=\"https://upload.wikimedia.org/wikipedia/commons/5/5a/X_icon_2.svg\" alt=\"X logo\">\n",
    "</a>\n",
    "<a href=\"https://reddit.com/submit?url=https%3A//github.com/GoogleCloudPlatform/generative-ai/blob/main/gemini/prompts/intro_prompt_design.ipynb\" target=\"_blank\">\n",
    "  <img width=\"20px\" src=\"https://redditinc.com/hubfs/Reddit%20Inc/Brand/Reddit_Logo.png\" alt=\"Reddit logo\">\n",
    "</a>\n",
    "<a href=\"https://www.facebook.com/sharer/sharer.php?u=https%3A//github.com/GoogleCloudPlatform/generative-ai/blob/main/gemini/prompts/intro_prompt_design.ipynb\" target=\"_blank\">\n",
    "  <img width=\"20px\" src=\"https://upload.wikimedia.org/wikipedia/commons/5/51/Facebook_f_logo_%282019%29.svg\" alt=\"Facebook logo\">\n",
    "</a>"
   ]
  },
  {
   "cell_type": "markdown",
   "metadata": {
    "id": "84f0f73a0f76"
   },
   "source": [
    "| Authors |\n",
    "| --- |\n",
    "| [Polong Lin](https://github.com/polong-lin) |\n",
    "| [Karl Weinmeister](https://github.com/kweinmeister) |"
   ]
  },
  {
   "cell_type": "markdown",
   "metadata": {
    "id": "tvgnzT1CKxrO"
   },
   "source": [
    "## Overview\n",
    "\n",
    "This notebook covers the essentials of prompt engineering, including some best practices.\n",
    "\n",
    "Learn more about prompt design in the [official documentation](https://cloud.google.com/vertex-ai/docs/generative-ai/text/text-overview).\n",
    "\n",
    "In this notebook, you learn best practices around prompt engineering -- how to design prompts to improve the quality of your responses.\n",
    "\n",
    "This notebook covers the following best practices for prompt engineering:\n",
    "\n",
    "- Be concise\n",
    "- Be specific and well-defined\n",
    "- Ask one task at a time\n",
    "- Turn generative tasks into classification tasks\n",
    "- Improve response quality by including examples"
   ]
  },
  {
   "cell_type": "markdown",
   "metadata": {
    "id": "61RBz8LLbxCR"
   },
   "source": [
    "## Getting Started"
   ]
  },
  {
   "cell_type": "markdown",
   "metadata": {
    "id": "No17Cw5hgx12"
   },
   "source": [
    "### Install Google Gen AI SDK\n"
   ]
  },
  {
   "cell_type": "code",
   "execution_count": 1,
   "metadata": {
    "id": "tFy3H3aPgx12",
    "tags": []
   },
   "outputs": [
    {
     "name": "stdout",
     "output_type": "stream",
     "text": [
      "Note: you may need to restart the kernel to use updated packages.\n"
     ]
    }
   ],
   "source": [
    "%pip install --upgrade --quiet google-genai"
   ]
  },
  {
   "cell_type": "markdown",
   "metadata": {
    "id": "06489bd14f16"
   },
   "source": [
    "### Import libraries\n"
   ]
  },
  {
   "cell_type": "code",
   "execution_count": 2,
   "metadata": {
    "id": "154137022fb6",
    "tags": []
   },
   "outputs": [],
   "source": [
    "from IPython.display import Markdown, display\n",
    "from google import genai\n",
    "from google.genai.types import GenerateContentConfig"
   ]
  },
  {
   "cell_type": "markdown",
   "metadata": {
    "id": "DF4l8DTdWgPY"
   },
   "source": [
    "### Set Google Cloud project information and create client\n",
    "\n",
    "To get started using Vertex AI, you must have an existing Google Cloud project and [enable the Vertex AI API](https://console.cloud.google.com/flows/enableapi?apiid=aiplatform.googleapis.com).\n",
    "\n",
    "Learn more about [setting up a project and a development environment](https://cloud.google.com/vertex-ai/docs/start/cloud-environment)."
   ]
  },
  {
   "cell_type": "code",
   "execution_count": 3,
   "metadata": {
    "id": "Nqwi-5ufWp_B",
    "tags": []
   },
   "outputs": [],
   "source": [
    "import os\n",
    "\n",
    "PROJECT_ID = \"qwiklabs-gcp-04-07a85d7cee5c\"  # @param {type: \"string\", placeholder: \"[your-project-id]\", isTemplate: true}\n",
    "if not PROJECT_ID or PROJECT_ID == \"[your-project-id]\":\n",
    "    PROJECT_ID = str(os.environ.get(\"GOOGLE_CLOUD_PROJECT\"))\n",
    "\n",
    "LOCATION = \"europe-west1\""
   ]
  },
  {
   "cell_type": "code",
   "execution_count": 4,
   "metadata": {
    "id": "QqRWdPGmW3NJ",
    "tags": []
   },
   "outputs": [],
   "source": [
    "client = genai.Client(vertexai=True, project=PROJECT_ID, location=LOCATION)"
   ]
  },
  {
   "cell_type": "markdown",
   "metadata": {
    "id": "OnFPpCRtXRl4"
   },
   "source": [
    "### Load model\n",
    "\n",
    "Learn more about all [Gemini models on Vertex AI](https://cloud.google.com/vertex-ai/generative-ai/docs/learn/models#gemini-models)."
   ]
  },
  {
   "cell_type": "code",
   "execution_count": 5,
   "metadata": {
    "id": "IQYu_9SvXQah",
    "tags": []
   },
   "outputs": [],
   "source": [
    "MODEL_ID = \"gemini-2.5-flash\"  # @param {type: \"string\"}"
   ]
  },
  {
   "cell_type": "markdown",
   "metadata": {
    "id": "cVOtUNJ5X0PY"
   },
   "source": [
    "## Prompt engineering best practices"
   ]
  },
  {
   "cell_type": "markdown",
   "metadata": {
    "id": "uv_e0fEPX60q"
   },
   "source": [
    "Prompt engineering is all about how to design your prompts so that the response is what you were indeed hoping to see.\n",
    "\n",
    "The idea of using \"unfancy\" prompts is to minimize the noise in your prompt to reduce the possibility of the LLM misinterpreting the intent of the prompt. Below are a few guidelines on how to engineer \"unfancy\" prompts.\n",
    "\n",
    "In this section, you'll cover the following best practices when engineering prompts:\n",
    "\n",
    "* Be concise\n",
    "* Be specific, and well-defined\n",
    "* Ask one task at a time\n",
    "* Improve response quality by including examples\n",
    "* Turn generative tasks to classification tasks to improve safety"
   ]
  },
  {
   "cell_type": "markdown",
   "metadata": {
    "id": "0pY4XX0OX9_Y"
   },
   "source": [
    "### Be concise"
   ]
  },
  {
   "cell_type": "markdown",
   "metadata": {
    "id": "xlRpxyxGYA1K"
   },
   "source": [
    "🛑 Not recommended. The prompt below is unnecessarily verbose."
   ]
  },
  {
   "cell_type": "code",
   "execution_count": 6,
   "metadata": {
    "id": "YKV4G-CfXdbi",
    "tags": []
   },
   "outputs": [
    {
     "data": {
      "text/markdown": [
       "That's a lovely niche! Dried flowers evoke a sense of timelessness, rustic charm, and sustainability. Here are some name ideas, categorized by their vibe:\n",
       "\n",
       "**Classic & Elegant:**\n",
       "1.  **Everlasting Blooms:** Simple, direct, and conveys longevity.\n",
       "2.  **The Preserved Petal:** Suggests careful artistry and permanence.\n",
       "3.  **Heirloom Petals:** Implies a treasured, lasting beauty.\n",
       "4.  **Timeless Tangles:** Evokes the intricate, enduring beauty of dried arrangements.\n",
       "5.  **Botanical Endurances:** A sophisticated and artistic choice.\n",
       "6.  **The Perpetual Petal:** Emphasizes continuous beauty.\n",
       "7.  **Quiet Bloom Studio:** Suggests a serene, artistic space.\n",
       "\n",
       "**Rustic & Earthy:**\n",
       "8.  **Sun-Kissed Stems:** Implies a natural drying process and warmth.\n",
       "9.  **Willow & Wisp:** Combines a natural material (willow) with the delicate nature of dried elements.\n",
       "10. **Earthen Blooms:** Connects to the natural origins and earthy tones.\n",
       "11. **Faded & Found:** Suggests discovering beauty in aged elements.\n",
       "12. **The Dried Garden:** Implies a garden that has been captured in time.\n",
       "13. **Wildflower & Whimsy:** Combines natural elements with a touch of charm.\n",
       "14. **Root & Bloom Dried Botanicals:** Grounded and artistic.\n",
       "\n",
       "**Modern & Chic:**\n",
       "15. **Bloom & Dry Co.** (or Studio, Atelier): Contemporary and to the point.\n",
       "16. **The Still Life Flower Shop:** Play on the art term, perfectly fits dried flowers.\n",
       "17. **Form & Flora:** Focuses on the structure and beauty of dried botanicals.\n",
       "18. **Aura Bloom:** Suggests an enduring presence and beauty.\n",
       "19. **Petal Post:** Short, catchy, and implies delivery/collection of lasting beauty.\n",
       "20. **The Dry Garden Project:** Gives it a creative, artisanal feel.\n",
       "\n",
       "**Whimsical & Charming:**\n",
       "21. **Forget-Me-Not Bouquets:** A sweet nod to memory and lasting sentiment.\n",
       "22. **Dusty Rose & Thyme:** Evokes classic dried flower colors and natural scents.\n",
       "23. **The Little Dried Flower Shop:** Friendly, quaint, and inviting.\n",
       "24. **Whisperwind Blooms:** Suggests lightness and the drying process.\n",
       "25. **Moon & Meadow Drying Co.** (or Botanicals): Evokes natural processes and beauty.\n",
       "\n",
       "**Tips for Choosing:**\n",
       "*   **Say it out loud:** Does it roll off the tongue?\n",
       "*   **Check availability:** Is the name, domain, and social media handles available?\n",
       "*   **Consider your target audience:** Who are you trying to attract?\n",
       "*   **Reflect your brand:** Does the name convey the overall aesthetic and feel you want for your shop?\n",
       "\n",
       "Good luck with your unique flower shop!"
      ],
      "text/plain": [
       "<IPython.core.display.Markdown object>"
      ]
     },
     "metadata": {},
     "output_type": "display_data"
    }
   ],
   "source": [
    "prompt = \"What do you think could be a good name for a flower shop that specializes in selling bouquets of dried flowers more than fresh flowers?\"\n",
    "\n",
    "response = client.models.generate_content(model=MODEL_ID, contents=prompt)\n",
    "display(Markdown(response.text))"
   ]
  },
  {
   "cell_type": "markdown",
   "metadata": {
    "id": "YrJexRHJYnmC"
   },
   "source": [
    "✅ Recommended. The prompt below is to the point and concise."
   ]
  },
  {
   "cell_type": "code",
   "execution_count": 7,
   "metadata": {
    "id": "VHetn9lCYrXB",
    "tags": []
   },
   "outputs": [
    {
     "data": {
      "text/markdown": [
       "Here are some name suggestions for a flower shop specializing in dried flower bouquets, categorized by their vibe:\n",
       "\n",
       "**Elegant & Timeless:**\n",
       "\n",
       "*   **The Everlast Bloom**\n",
       "*   **Eternal Petals**\n",
       "*   **Timeless Botanicals**\n",
       "*   **Preserved Petals Atelier**\n",
       "*   **Flora Immortal**\n",
       "*   **The Enduring Bloom Co.**\n",
       "*   **Heirloom Botanicals**\n",
       "*   **Arbor & Bloom Dry Goods**\n",
       "\n",
       "**Whimsical & Enchanting:**\n",
       "\n",
       "*   **Whispering Petals**\n",
       "*   **Dusted Petal Studio**\n",
       "*   **Sun-Kissed Stems**\n",
       "*   **The Dry Garden**\n",
       "*   **Meadow & Moss Dried**\n",
       "*   **Willow & Wisp Flowers**\n",
       "*   **Stardust Blooms**\n",
       "\n",
       "**Direct & Descriptive:**\n",
       "\n",
       "*   **Everbloom Dried Flowers**\n",
       "*   **The Dried Bouquet Co.**\n",
       "*   **Lasting Blooms**\n",
       "*   **Field & Forage Dried**\n",
       "*   **Terra Botanica Dried**\n",
       "*   **Simply Dried Flowers**\n",
       "\n",
       "**Modern & Chic:**\n",
       "\n",
       "*   **Ever.Bloom**\n",
       "*   **Flora.Dry**\n",
       "*   **The Dried. (with a sleek logo)**\n",
       "*   **Bloom & Co. (Dried)**\n",
       "*   **Stems & Such (Dried)**\n",
       "*   **Harvest & Hue**\n",
       "\n",
       "**Tips for Choosing:**\n",
       "\n",
       "*   **Say it out loud:** Does it roll off the tongue?\n",
       "*   **Check availability:** Is the domain name and social media handles available?\n",
       "*   **Consider your aesthetic:** Do you want something rustic, modern, luxurious, or whimsical?\n",
       "*   **Get feedback:** Ask potential customers which names they like best.\n",
       "*   **Think about your logo:** Can you visualize a great logo with this name?\n",
       "\n",
       "Good luck with your new venture!"
      ],
      "text/plain": [
       "<IPython.core.display.Markdown object>"
      ]
     },
     "metadata": {},
     "output_type": "display_data"
    }
   ],
   "source": [
    "prompt = \"Suggest a name for a flower shop that sells bouquets of dried flowers\"\n",
    "\n",
    "response = client.models.generate_content(model=MODEL_ID, contents=prompt)\n",
    "display(Markdown(response.text))"
   ]
  },
  {
   "cell_type": "markdown",
   "metadata": {
    "id": "eXTAvdOHY0OC"
   },
   "source": [
    "### Be specific, and well-defined"
   ]
  },
  {
   "cell_type": "markdown",
   "metadata": {
    "id": "FTH4GEIgY1dp"
   },
   "source": [
    "Suppose that you want to brainstorm creative ways to describe Earth."
   ]
  },
  {
   "cell_type": "markdown",
   "metadata": {
    "id": "o5BmXBiGY4KC"
   },
   "source": [
    "🛑 The prompt below might be a bit too generic (which is certainly OK if you'd like to ask a generic question!)"
   ]
  },
  {
   "cell_type": "code",
   "execution_count": 8,
   "metadata": {
    "id": "eHBaMvv7Y6mR",
    "tags": []
   },
   "outputs": [
    {
     "data": {
      "text/markdown": [
       "Mars, often called **\"The Red Planet,\"** is the fourth planet from the Sun and Earth's closest planetary neighbor. It's one of the most studied and intriguing bodies in our solar system, holding clues about planetary evolution and the potential for life beyond Earth.\n",
       "\n",
       "Here's a breakdown of what makes Mars so fascinating:\n",
       "\n",
       "1.  **The Red Planet:**\n",
       "    *   **Color:** Its distinctive reddish-orange hue comes from iron oxide (rust) covering its surface.\n",
       "    *   **Name:** Named after the Roman god of war, likely due to its blood-red appearance.\n",
       "\n",
       "2.  **Physical Characteristics:**\n",
       "    *   **Size:** Mars is a terrestrial planet, meaning it has a rocky surface, but it's significantly smaller than Earth – about half its diameter and one-tenth its mass.\n",
       "    *   **Surface:** It's a rugged world with a varied landscape, featuring:\n",
       "        *   **Craters:** Especially prevalent in its older southern hemisphere.\n",
       "        *   **Volcanoes:** Home to Olympus Mons, the largest volcano and highest mountain in the entire solar system, a shield volcano three times taller than Mount Everest.\n",
       "        *   **Canyons:** Valles Marineris is a vast canyon system, stretching over 4,000 km (2,500 miles) long, 200 km (120 miles) wide, and up to 7 km (4 miles) deep – big enough to stretch across the continental United States.\n",
       "        *   **Polar Ice Caps:** Composed of both water ice and frozen carbon dioxide (dry ice), which grow and shrink with the seasons.\n",
       "\n",
       "3.  **Atmosphere:**\n",
       "    *   **Thin & Cold:** Mars has a very thin atmosphere, less than 1% as dense as Earth's.\n",
       "    *   **Composition:** Primarily carbon dioxide (about 95%), with small amounts of nitrogen, argon, and other gases.\n",
       "    *   **Temperature:** Extremely cold, with an average temperature of about -63°C (-81°F). Temperatures can swing wildly from 20°C (68°F) at the equator during summer down to -140°C (-220°F) at the poles in winter.\n",
       "    *   **Weather:** Prone to massive dust storms that can envelop the entire planet and last for months. These storms are driven by the large temperature differences between the poles and the equator.\n",
       "\n",
       "4.  **Water on Mars:**\n",
       "    *   **Past:** One of the most significant discoveries about Mars is the abundant evidence that it once had liquid water flowing on its surface billions of years ago. Features like ancient river valleys, lakebeds, and mineral deposits indicate a warmer, wetter past, possibly even an ocean.\n",
       "    *   **Present:** Today, liquid water is unstable on the surface due to the low atmospheric pressure and cold temperatures. However, water ice is plentiful, locked away in the polar caps and beneath the surface, particularly at higher latitudes. There's also trace water vapor in the atmosphere. Scientists continue to look for evidence of subsurface liquid brine.\n",
       "\n",
       "5.  **The Search for Life:**\n",
       "    *   **Past Potential:** The evidence of past liquid water, a thicker atmosphere, and a more geologically active period suggests that ancient Mars could have been habitable for microbial life.\n",
       "    *   **Present:** No definitive evidence of life (past or present) has been found yet. However, astrobiologists are actively searching for biosignatures or conditions that could support life, especially in subsurface environments where water might exist. The discovery of methane in the atmosphere has also sparked interest, as it can be produced by both geological and biological processes.\n",
       "\n",
       "6.  **Moons:**\n",
       "    *   Mars has two small, irregularly shaped moons: **Phobos** and **Deimos**. They are believed to be captured asteroids rather than having formed with Mars itself.\n",
       "\n",
       "7.  **Exploration:**\n",
       "    *   Mars is the most extensively explored planet after Earth. Numerous missions from various space agencies (NASA, ESA, Roscosmos, ISRO, CNSA) have visited or are currently orbiting/on its surface.\n",
       "    *   **Notable Missions:**\n",
       "        *   **Mariner 4 (1965):** First successful flyby, showing a cratered, moon-like surface.\n",
       "        *   **Viking 1 & 2 (1976):** First successful landings, conducted initial searches for life.\n",
       "        *   **Mars Global Surveyor (1997-2006):** Detailed mapping of the surface and atmosphere.\n",
       "        *   **Mars Pathfinder/Sojourner (1997):** First successful rover on Mars.\n",
       "        *   **Spirit & Opportunity (2004-2018):** Twin rovers that greatly expanded our understanding of Mars's watery past.\n",
       "        *   **Mars Reconnaissance Orbiter (2006-Present):** High-resolution imaging and atmospheric studies.\n",
       "        *   **Curiosity (2012-Present):** Investigating Mars's past habitability in Gale Crater.\n",
       "        *   **InSight (2018-2022):** Studied Mars's deep interior, seismology.\n",
       "        *   **Perseverance & Ingenuity (2021-Present):** Searching for signs of ancient microbial life and collecting samples for future return to Earth, along with the first extraterrestrial helicopter.\n",
       "    *   **Future:** Plans include human missions to Mars in the coming decades, as well as the Mars Sample Return mission to bring Perseverance's samples back to Earth for analysis.\n",
       "\n",
       "Mars continues to be a focal point for scientific inquiry, not just for understanding our solar system, but also as a potential future outpost for humanity."
      ],
      "text/plain": [
       "<IPython.core.display.Markdown object>"
      ]
     },
     "metadata": {},
     "output_type": "display_data"
    }
   ],
   "source": [
    "prompt = \"Tell me about Mars\"\n",
    "\n",
    "response = client.models.generate_content(model=MODEL_ID, contents=prompt)\n",
    "display(Markdown(response.text))"
   ]
  },
  {
   "cell_type": "markdown",
   "metadata": {
    "id": "4iyvEbteZnFL"
   },
   "source": [
    "✅ Recommended. The prompt below is specific and well-defined."
   ]
  },
  {
   "cell_type": "code",
   "execution_count": 9,
   "metadata": {
    "id": "JQ80z8urZnne",
    "tags": []
   },
   "outputs": [
    {
     "data": {
      "text/markdown": [
       "Earth stands out among the planets in our solar system, and likely in the observable universe, due to a remarkable combination of factors that have allowed for the sustained flourishing of complex life. Here are some key ways Earth is unique:\n",
       "\n",
       "1.  **Abundance of Surface Liquid Water:** Earth is the only planet known to have vast quantities of stable liquid water on its surface. While other bodies have ice (Mars, icy moons) or subsurface oceans (Europa, Enceladus), Earth's oceans, rivers, and lakes are crucial for life, climate regulation, and geological processes.\n",
       "\n",
       "2.  **Plate Tectonics:** Earth is the only planet in our solar system confirmed to have active, global plate tectonics. This process involves the constant movement, collision, and subduction of large crustal plates, which:\n",
       "    *   Recycles carbon dioxide back into the atmosphere (vital for the long-term carbon cycle).\n",
       "    *   Drives volcanism and mountain building.\n",
       "    *   Creates new crust and diverse geological features.\n",
       "    *   Helps regulate Earth's internal heat.\n",
       "\n",
       "3.  **Atmosphere with High Free Oxygen:** Earth's atmosphere is unique due to its high concentration (about 21%) of free oxygen, a reactive gas largely produced by life (photosynthesis). This oxygen is essential for complex aerobic life and also forms the ozone layer, which shields the surface from harmful ultraviolet radiation. Other planetary atmospheres are dominated by CO2, nitrogen (Titan), or hydrogen/helium (gas giants).\n",
       "\n",
       "4.  **Complex, Diverse, and Intelligent Life:** While the existence of microbial life might be possible elsewhere, Earth is the only planet known to host an incredibly diverse biosphere, ranging from bacteria to complex multicellular organisms, ecosystems, and *intelligent, technological civilization*. This has profoundly altered the planet's geology and atmosphere.\n",
       "\n",
       "5.  **Large, Stabilizing Moon:** Earth has an unusually large moon relative to its own size, formed by a giant impact. This large moon:\n",
       "    *   Gravitationally stabilizes Earth's axial tilt, preventing extreme climate swings that could hinder life.\n",
       "    *   Creates significant tides, which may have played a role in the emergence of life from oceans.\n",
       "    *   Slows Earth's rotation, leading to longer days.\n",
       "\n",
       "6.  **Strong, Global Magnetosphere:** Earth's molten iron outer core generates a powerful magnetic field that extends far into space. This magnetosphere acts as a shield, deflecting harmful charged particles from the solar wind and cosmic rays, protecting both the atmosphere from being stripped away and life on the surface from radiation.\n",
       "\n",
       "7.  **\"Goldilocks\" Zone Position and Stable Orbit:** Earth orbits the Sun in the \"habitable zone\" (or Goldilocks zone), where temperatures allow liquid water to exist on the surface. Combined with a nearly circular and stable orbit, this provides the consistent energy input necessary for life.\n",
       "\n",
       "8.  **Active Volcanism (Linked to Plate Tectonics):** While other bodies have volcanism (e.g., Venus, Io), Earth's volcanism is intrinsically linked to its plate tectonics and plays a crucial role in the carbon cycle and the continuous renewal of the planet's surface.\n",
       "\n",
       "It's this *combination* of unique features – rather than just one in isolation – that makes Earth an extraordinary and uniquely life-sustaining planet."
      ],
      "text/plain": [
       "<IPython.core.display.Markdown object>"
      ]
     },
     "metadata": {},
     "output_type": "display_data"
    }
   ],
   "source": [
    "prompt = \"Generate a list of ways that makes Earth unique compared to other planets\"\n",
    "\n",
    "response = client.models.generate_content(model=MODEL_ID, contents=prompt)\n",
    "display(Markdown(response.text))"
   ]
  },
  {
   "cell_type": "markdown",
   "metadata": {
    "id": "R5kmfZYHZsJ7"
   },
   "source": [
    "### Ask one task at a time"
   ]
  },
  {
   "cell_type": "markdown",
   "metadata": {
    "id": "rsAezxeYZuUN"
   },
   "source": [
    "🛑 Not recommended. The prompt below has two parts to the question that could be asked separately."
   ]
  },
  {
   "cell_type": "code",
   "execution_count": 26,
   "metadata": {
    "id": "ElywPXpuZtWf",
    "tags": []
   },
   "outputs": [
    {
     "data": {
      "text/markdown": [
       "Let's break down both questions:\n",
       "\n",
       "---\n",
       "\n",
       "### What's the best method of boiling water?\n",
       "\n",
       "The \"best\" method depends on your priorities (speed, energy efficiency, volume, convenience, available resources). Here are the top contenders:\n",
       "\n",
       "1.  **Electric Kettle (Overall Best for typical household use):**\n",
       "    *   **Why it's great:**\n",
       "        *   **Speed:** They are generally the fastest way to boil water for volumes up to 1-2 liters, especially modern kettles with high wattage.\n",
       "        *   **Energy Efficiency:** They are very efficient because the heating element is directly immersed in the water, and most kettles are insulated, minimizing heat loss. They also shut off automatically once boiling, preventing wasted energy.\n",
       "        *   **Convenience:** Simple to use, portable (within reach of an outlet), and require no monitoring.\n",
       "    *   **Best for:** Tea, coffee, instant noodles, or any small-to-medium volume boiling task in a kitchen.\n",
       "\n",
       "2.  **Stovetop Pot (Gas Stove - Good for larger volumes or no kettle):**\n",
       "    *   **Why it's good:**\n",
       "        *   **Versatility:** You can use any size pot to boil any volume of water.\n",
       "        *   **Availability:** Most households have a stovetop.\n",
       "        *   **Speed (Gas):** A gas flame provides direct, intense heat, making it relatively quick, especially for larger quantities where an electric kettle might be too small.\n",
       "    *   **Considerations:** Electric stovetops are generally slower and less energy-efficient for boiling water than gas stoves or electric kettles, as heat is lost to the air around the pot. Requires monitoring.\n",
       "    *   **Best for:** Boiling large amounts of water (e.g., for pasta, blanching vegetables), or when an electric kettle isn't available.\n",
       "\n",
       "**Methods to Avoid or Use with Caution:**\n",
       "\n",
       "*   **Microwave:** While it *can* heat water, it's generally **not recommended for boiling** due to the risk of superheating. Superheated water looks calm but can violently erupt when disturbed (e.g., by a spoon, coffee grounds, or sugar), causing severe burns. It's also less efficient and slower than a kettle for boiling.\n",
       "\n",
       "**Conclusion for Boiling Water:**\n",
       "For everyday, small-to-medium volume boiling, an **electric kettle** is usually the fastest, most energy-efficient, and safest option. For larger volumes or if you don't have a kettle, a **gas stovetop pot** is the next best choice.\n",
       "\n",
       "---\n",
       "\n",
       "### Why is the water blue?\n",
       "\n",
       "This is a fascinating phenomenon, and it's not due to impurities (in fact, the bluer the water, the purer it often is!).\n",
       "\n",
       "1.  **Pure water is intrinsically blue:**\n",
       "    *   While a single glass of water appears colorless, observe a large body of pure water (like a deep swimming pool, a pristine lake, or the ocean), and you'll notice its distinct blue hue.\n",
       "    *   This blueness isn't due to reflections of the sky (though sky reflection *can* contribute to the appearance in shallower water). If you take a sample of deep ocean water in a clear container, it will still appear blue.\n",
       "\n",
       "2.  **Selective Absorption and Scattering of Light:**\n",
       "    *   The blue color of water comes from the way water molecules interact with light.\n",
       "    *   **Absorption:** Water molecules preferentially absorb light from the red end of the visible spectrum (red, orange, yellow, green).\n",
       "    *   **Scattering:** Blue light, on the other hand, is scattered and reflected more effectively by the water molecules.\n",
       "    *   **What you see:** When white light (which contains all colors) hits a large volume of water, the red components are absorbed, leaving primarily blue light to be scattered back to your eyes. The deeper the water, the more opportunities there are for red light to be absorbed and blue light to be scattered, making the blue color more pronounced.\n",
       "\n",
       "So, in short: **Water is blue because its molecules absorb red wavelengths of light more strongly than blue wavelengths, allowing the blue light to penetrate further and scatter back to our eyes, especially in larger volumes.**"
      ],
      "text/plain": [
       "<IPython.core.display.Markdown object>"
      ]
     },
     "metadata": {},
     "output_type": "display_data"
    }
   ],
   "source": [
    "prompt = \"What's the best method of boiling water and why is the water blue?\"\n",
    "\n",
    "response = client.models.generate_content(model=MODEL_ID, contents=prompt)\n",
    "display(Markdown(response.text))"
   ]
  },
  {
   "cell_type": "markdown",
   "metadata": {
    "id": "ejzahazBZ8vk"
   },
   "source": [
    "✅ Recommended. The prompts below asks one task a time."
   ]
  },
  {
   "cell_type": "code",
   "execution_count": null,
   "metadata": {
    "id": "C5ckp2F0Z_Ba",
    "tags": []
   },
   "outputs": [],
   "source": [
    "prompt = \"What's the best method of boiling gold?\"\n",
    "\n",
    "response = client.models.generate_content(model=MODEL_ID, contents=prompt)\n",
    "display(Markdown(response.text))"
   ]
  },
  {
   "cell_type": "code",
   "execution_count": null,
   "metadata": {
    "id": "KwUzhud4aA89",
    "tags": []
   },
   "outputs": [],
   "source": [
    "prompt = \"Why is the space black?\"\n",
    "\n",
    "response = client.models.generate_content(model=MODEL_ID, contents=prompt)\n",
    "display(Markdown(response.text))"
   ]
  },
  {
   "cell_type": "markdown",
   "metadata": {
    "id": "PJIL2RTQaGcT"
   },
   "source": [
    "### Watch out for hallucinations"
   ]
  },
  {
   "cell_type": "markdown",
   "metadata": {
    "id": "8Y8kYxrSaHE9"
   },
   "source": [
    "Although LLMs have been trained on a large amount of data, they can generate text containing statements not grounded in truth or reality; these responses from the LLM are often referred to as \"hallucinations\" due to their limited memorization capabilities. Note that simply prompting the LLM to provide a citation isn't a fix to this problem, as there are instances of LLMs providing false or inaccurate citations. Dealing with hallucinations is a fundamental challenge of LLMs and an ongoing research area, so it is important to be cognizant that LLMs may seem to give you confident, correct-sounding statements that are in fact incorrect.\n",
    "\n",
    "Note that if you intend to use LLMs for the creative use cases, hallucinating could actually be quite useful."
   ]
  },
  {
   "cell_type": "markdown",
   "metadata": {
    "id": "8NY5nAGeaJYS"
   },
   "source": [
    "Try the prompt like the one below repeatedly. We set the temperature to `1.0` so that it takes more risks in its choices. It's possible that it may provide an inaccurate, but confident answer."
   ]
  },
  {
   "cell_type": "code",
   "execution_count": 12,
   "metadata": {
    "id": "QALPjEILaM62",
    "tags": []
   },
   "outputs": [
    {
     "data": {
      "text/markdown": [
       "Today is **Wednesday, May 8, 2024**."
      ],
      "text/plain": [
       "<IPython.core.display.Markdown object>"
      ]
     },
     "metadata": {},
     "output_type": "display_data"
    }
   ],
   "source": [
    "generation_config = GenerateContentConfig(temperature=1.0)\n",
    "\n",
    "prompt = \"What day is it today?\"\n",
    "\n",
    "response = client.models.generate_content(model=MODEL_ID, contents=prompt)\n",
    "display(Markdown(response.text))"
   ]
  },
  {
   "cell_type": "markdown",
   "metadata": {
    "id": "BRkwzbgRbhKt"
   },
   "source": [
    "Since LLMs do not have access to real-time information without further integrations, you may have noticed it hallucinates what day it is today in some of the outputs."
   ]
  },
  {
   "cell_type": "markdown",
   "metadata": {
    "id": "3c811e310d02"
   },
   "source": [
    "### Using system instructions to guardrail the model from irrelevant responses\n",
    "\n",
    "How can we attempt to reduce the chances of irrelevant responses and hallucinations?\n",
    "\n",
    "One way is to provide the LLM with [system instructions](https://cloud.google.com/vertex-ai/generative-ai/docs/learn/prompts/system-instruction-introduction).\n",
    "\n",
    "Let's see how system instructions works and how you can use them to reduce hallucinations or irrelevant questions for a travel chatbot.\n",
    "\n",
    "Suppose we ask a simple question about one of Italy's most famous tourist spots."
   ]
  },
  {
   "cell_type": "code",
   "execution_count": 13,
   "metadata": {
    "id": "rB6zJU76biFK",
    "tags": []
   },
   "outputs": [
    {
     "data": {
      "text/markdown": [
       "Milan offers a vibrant nightlife scene with many popular clubs! The \"best\" place can depend on your music taste, desired atmosphere, and what kind of crowd you're looking for.\n",
       "\n",
       "Here are some highly-regarded areas and specific clubs you might want to check out in Milan:\n",
       "\n",
       "**Popular Clubbing Areas:**\n",
       "\n",
       "*   **Corso Como:** This is a very chic and trendy area, known for its fashionable clubs and upscale atmosphere. It's great for people-watching and experiencing the Milanese dolce vita.\n",
       "*   **Navigli District:** While more famous for its bars and aperitivo spots along the canals, Navigli also has several clubs, particularly those playing electronic or alternative music. It has a more bohemian and lively feel.\n",
       "*   **Isola District:** Similar to Navigli, Isola is becoming increasingly popular for its unique bars and clubs, often with a more alternative or indie vibe.\n",
       "\n",
       "**Specific Club Recommendations (consider checking their current schedules and music genres):**\n",
       "\n",
       "*   **Hollywood Rythmoteque:** A long-standing institution on Corso Como, known for its mainstream, commercial, and house music. It's often frequented by a stylish crowd and is popular with both locals and tourists.\n",
       "*   **Old Fashion Club:** Located near Parco Sempione, it's one of Milan's most historic and popular clubs, offering multiple rooms with different music genres (house, R&B, commercial). It also has an outdoor garden area.\n",
       "*   **Plastic Club:** If you're into electronic music, techno, or a more underground/alternative scene, Plastic is legendary. It has a very unique and eclectic crowd.\n",
       "*   **Fabrique:** A larger venue that hosts international DJs and live music events, covering a wider range of genres from techno to indie and pop. Check their schedule for specific events.\n",
       "*   **Just Cavalli:** Located at the base of the iconic Branca Tower in Parco Sempione, this club (associated with the fashion brand) offers a luxurious atmosphere, usually playing house and commercial music. It also has a restaurant.\n",
       "\n",
       "**Tips for Clubbing in Milan:**\n",
       "\n",
       "*   **Dress Code:** Milanese clubs, especially those on Corso Como, often have a smart-casual or trendy dress code. Avoid sneakers and sportswear if you want to ensure entry.\n",
       "*   **Opening Hours:** Clubs typically get busy after midnight and stay open until the early morning hours.\n",
       "*   **Entry Fee:** Most clubs have an entry fee, which might include a drink.\n",
       "*   **Reservations:** For popular nights or if you want a table, consider making a reservation.\n",
       "\n",
       "I recommend checking out the current event listings or social media pages for these clubs closer to your travel dates to see what's on! Enjoy your night out in Milan!"
      ],
      "text/plain": [
       "<IPython.core.display.Markdown object>"
      ]
     },
     "metadata": {},
     "output_type": "display_data"
    }
   ],
   "source": [
    "generation_config = GenerateContentConfig(temperature=1.0)\n",
    "\n",
    "chat = client.chats.create(\n",
    "    model=MODEL_ID,\n",
    "    config=GenerateContentConfig(\n",
    "        system_instruction=[\n",
    "            \"Hello! You are an AI chatbot for a travel web site.\",\n",
    "            \"Your mission is to provide helpful queries for travelers.\",\n",
    "            \"Remember that before you answer a question, you must check to see if it complies with your mission.\",\n",
    "            \"If not, you can say, Sorry I can't answer that question.\",\n",
    "        ]\n",
    "    ),\n",
    ")\n",
    "\n",
    "prompt = \"What is the best place for clubbing in Milan, Italy?\"\n",
    "\n",
    "response = chat.send_message(prompt)\n",
    "display(Markdown(response.text))"
   ]
  },
  {
   "cell_type": "markdown",
   "metadata": {
    "id": "WZa-Qcf9cF4A"
   },
   "source": [
    "Now let us pretend to be a user asks the chatbot a question that is unrelated to travel."
   ]
  },
  {
   "cell_type": "code",
   "execution_count": 19,
   "metadata": {
    "id": "AZKBIDr2cGnu",
    "tags": []
   },
   "outputs": [
    {
     "data": {
      "text/markdown": [
       "Sorry, I can't answer that question. My purpose is to provide helpful queries for travelers."
      ],
      "text/plain": [
       "<IPython.core.display.Markdown object>"
      ]
     },
     "metadata": {},
     "output_type": "display_data"
    }
   ],
   "source": [
    "prompt = \"How do I make compass for travel?\"\n",
    "\n",
    "response = chat.send_message(prompt)\n",
    "display(Markdown(response.text))"
   ]
  },
  {
   "cell_type": "markdown",
   "metadata": {
    "id": "JiUYIhwpctCy"
   },
   "source": [
    "You can see that this way, a guardrail in the prompt prevented the chatbot from veering off course."
   ]
  },
  {
   "cell_type": "markdown",
   "metadata": {
    "id": "ZuuDhA37cvmP"
   },
   "source": [
    "### Turn generative tasks into classification tasks to reduce output variability"
   ]
  },
  {
   "cell_type": "markdown",
   "metadata": {
    "id": "kUCUrsUzczmb"
   },
   "source": [
    "#### Generative tasks lead to higher output variability"
   ]
  },
  {
   "cell_type": "markdown",
   "metadata": {
    "id": "a1xASHAkc46n"
   },
   "source": [
    "The prompt below results in an open-ended response, useful for brainstorming, but response is highly variable."
   ]
  },
  {
   "cell_type": "code",
   "execution_count": 25,
   "metadata": {
    "id": "nPfXQWIacwRf",
    "tags": []
   },
   "outputs": [
    {
     "data": {
      "text/markdown": [
       "That's fantastic! Programming is an incredibly rewarding skill, and high school is the perfect time to dive in. The best activity depends on your current experience level and what interests you most, but here are a few highly recommended options that are engaging and build foundational skills:\n",
       "\n",
       "---\n",
       "\n",
       "### **Top Recommendations for High Schoolers:**\n",
       "\n",
       "#### 1.  **Build a Simple Game**\n",
       "\n",
       "*   **Why it's great:** Games are inherently fun and motivating. They teach core programming concepts in a very visual and interactive way. You'll learn about loops, conditionals, functions, objects, event handling, and more.\n",
       "*   **Suggested Projects:**\n",
       "    *   **Text-based Adventure Game:** (e.g., \"Choose Your Own Adventure\" in the console) - Great for beginners.\n",
       "    *   **Classic Arcade Game Clones:** Pong, Snake, Tic-Tac-Toe, Hangman, Flappy Bird clone.\n",
       "    *   **Simple Platformer:** A character moves, jumps, avoids obstacles.\n",
       "*   **Skills you'll learn:** Game loops, collision detection, state management, basic physics, user input handling, object-oriented programming (if using sprites/characters).\n",
       "*   **Tools/Languages:**\n",
       "    *   **Python with Pygame:** Excellent for beginners. Python is easy to read, and Pygame provides all the necessary game development tools.\n",
       "    *   **JavaScript with HTML Canvas:** If you're interested in web development, this is a great bridge. You can create games directly in a web browser.\n",
       "    *   **Scratch (if very new):** If you're completely new to programming, Scratch is a visual block-based language that's fantastic for understanding logic before moving to text-based languages.\n",
       "*   **Where to start:** Search YouTube for \"Pygame tutorial for beginners\" or \"JavaScript game development tutorial Canvas.\" Codecademy also has some game-focused lessons.\n",
       "\n",
       "#### 2.  **Create a Personal Website or Portfolio**\n",
       "\n",
       "*   **Why it's great:** Web development skills are highly marketable and immediately applicable. You can create something visually appealing that you can share with friends, family, colleges, or future employers. It teaches you how things work \"under the hood\" of every website you visit.\n",
       "*   **Suggested Projects:**\n",
       "    *   **Personal Portfolio:** Showcase your projects, hobbies, interests, and skills.\n",
       "    *   **Fan Page:** For your favorite band, movie, game, or book.\n",
       "    *   **Simple Blog:** With different pages for posts.\n",
       "    *   **Recipe Book:** A collection of your favorite recipes with images and instructions.\n",
       "*   **Skills you'll learn:**\n",
       "    *   **HTML:** Structuring web content.\n",
       "    *   **CSS:** Styling your website (colors, fonts, layout, responsiveness).\n",
       "    *   **JavaScript (basic):** Adding interactivity (e.g., image sliders, form validation, simple animations).\n",
       "    *   **Deployment:** How to get your website online (e.g., GitHub Pages is free and easy).\n",
       "    *   **Responsive Design:** Making your site look good on phones, tablets, and desktops.\n",
       "*   **Tools/Languages:** HTML, CSS, JavaScript (VS Code as your editor).\n",
       "*   **Where to start:**\n",
       "    *   **freeCodeCamp.org:** Has a fantastic, comprehensive curriculum for web development.\n",
       "    *   **MDN Web Docs:** Official documentation (can be a bit dry, but extremely thorough and accurate).\n",
       "    *   **The Odin Project:** Another free, comprehensive curriculum, project-based.\n",
       "    *   **Codecademy:** Interactive lessons.\n",
       "\n",
       "#### 3.  **Automate a Daily Task (using Python)**\n",
       "\n",
       "*   **Why it's great:** This is incredibly practical and teaches you to think like a programmer: \"How can I make this computer do the boring stuff for me?\" Python is excellent for this due to its readability and vast library ecosystem.\n",
       "*   **Suggested Projects:**\n",
       "    *   **File Organizer:** A script that sorts files in a folder (e.g., moving all `.jpg` files to an \"Images\" folder).\n",
       "    *   **Web Scraper:** Grab data from a website (e.g., today's weather, movie times, stock prices). *Be mindful of website terms of service.*\n",
       "    *   **Rename Multiple Files:** Batch rename photos or documents.\n",
       "    *   **Password Generator:** Create strong, random passwords.\n",
       "    *   **Simple Chatbot:** A basic command-line chatbot that responds to keywords.\n",
       "    *   **Automated Email Sender:** Send personalized emails based on a list.\n",
       "*   **Skills you'll learn:** File I/O (reading/writing files), string manipulation, regular expressions, working with APIs (for web scraping/sending emails), conditional logic, loops, error handling.\n",
       "*   **Tools/Languages:** Python (VS Code as your editor).\n",
       "*   **Where to start:**\n",
       "    *   **\"Automate the Boring Stuff with Python\" by Al Sweigart:** This book is *the* classic for this kind of project. It's available for free online.\n",
       "    *   **Real Python:** Excellent tutorials on specific Python applications.\n",
       "\n",
       "---\n",
       "\n",
       "### **General Tips for Success:**\n",
       "\n",
       "1.  **Start Small:** Don't try to build the next Google on your first project. Break big ideas into tiny, manageable steps.\n",
       "2.  **Google is Your Best Friend:** You *will* get stuck. Learning how to search for solutions, read documentation, and understand error messages is a critical skill.\n",
       "3.  **Don't Be Afraid to Ask:** Use online communities (like Stack Overflow, Reddit's r/learnprogramming, Discord servers for specific languages/tools) when you're truly stuck.\n",
       "4.  **Use Version Control (Git & GitHub):** As soon as you're comfortable with basic coding, learn Git. It's how professional developers manage their code, track changes, and collaborate. Plus, having a GitHub profile with your projects looks great for college applications!\n",
       "5.  **Experiment and Play:** Change things just to see what happens. Break your code on purpose to understand error messages. This hands-on exploration is vital.\n",
       "6.  **Consistency Over Intensity:** 30 minutes every day is often more effective than one 5-hour session per week.\n",
       "7.  **Have Fun!** If it stops being fun, try a different type of project or technology. The joy of creating is what keeps you going.\n",
       "\n",
       "Good luck, and happy coding!"
      ],
      "text/plain": [
       "<IPython.core.display.Markdown object>"
      ]
     },
     "metadata": {},
     "output_type": "display_data"
    }
   ],
   "source": [
    "prompt = \"I'm a high school student. Recommend me a programming activity to improve my skills.\"\n",
    "\n",
    "response = client.models.generate_content(model=MODEL_ID, contents=prompt)\n",
    "display(Markdown(response.text))"
   ]
  },
  {
   "cell_type": "markdown",
   "metadata": {
    "id": "iAmm9wPYc_1o"
   },
   "source": [
    "#### Classification tasks reduces output variability"
   ]
  },
  {
   "cell_type": "markdown",
   "metadata": {
    "id": "VvRpK_0GdCpf"
   },
   "source": [
    "The prompt below results in a choice and may be useful if you want the output to be easier to control."
   ]
  },
  {
   "cell_type": "code",
   "execution_count": 21,
   "metadata": {
    "id": "kYDKh0r2dAqo",
    "tags": []
   },
   "outputs": [
    {
     "data": {
      "text/markdown": [
       "This is an excellent question! As a high school student, choosing the right first step can set a great foundation for your future in tech. Let's break down each option:\n",
       "\n",
       "---\n",
       "\n",
       "### My Top Recommendation: **a) Learn Python**\n",
       "\n",
       "**Why?**\n",
       "\n",
       "1.  **Beginner-Friendly:** Python is renowned for its simple, readable syntax, often compared to plain English. This makes it much easier to grasp fundamental programming concepts without getting bogged down in complex rules (like semicolons, curly braces, and type declarations that are common in other languages). You can focus on *logic* rather than obscure syntax.\n",
       "2.  **Incredibly Versatile:** Python is used in almost every domain of computer science:\n",
       "    *   **Artificial Intelligence (AI) & Machine Learning (ML):** This is where Python truly shines and directly ties into your interest in \"AI.\" Libraries like TensorFlow, PyTorch, scikit-learn, and Keras are all Python-based, making it the de facto language for developing and deploying AI models.\n",
       "    *   **Data Science & Analytics:** Pandas, NumPy, Matplotlib are Python libraries essential for data manipulation, analysis, and visualization.\n",
       "    *   **Web Development:** Frameworks like Django and Flask allow you to build powerful web applications.\n",
       "    *   **Automation & Scripting:** Python is fantastic for automating repetitive tasks.\n",
       "    *   **Game Development:** Pygame allows for simple 2D game creation.\n",
       "    *   **Desktop Applications:** PyQt and Kivy enable GUI app development.\n",
       "3.  **Massive Community & Resources:** Because it's so popular, there's an endless supply of tutorials, courses, documentation, and online communities (Stack Overflow, Reddit) to help you when you get stuck or want to learn more.\n",
       "4.  **Excellent Foundation:** Learning Python first builds a strong understanding of programming principles that are easily transferable to other languages if you decide to learn them later.\n",
       "\n",
       "---\n",
       "\n",
       "### When to Consider **b) Learn JavaScript**\n",
       "\n",
       "**Why (and why not first, usually)?**\n",
       "\n",
       "*   **The Language of the Web:** If your primary interest is making interactive websites – things you can see and click in your browser – then JavaScript is absolutely essential. It runs *in the browser* and makes webpages dynamic.\n",
       "*   **Full-Stack Potential:** With Node.js, JavaScript can also be used for back-end (server-side) development, meaning you can build entire web applications (both front-end and back-end) using just one language. You can even build desktop apps (Electron) and mobile apps (React Native).\n",
       "*   **Immediate Visual Feedback:** Building web pages and seeing your code immediately change what's on the screen can be very motivating.\n",
       "\n",
       "**Why not *first* for general programming/AI?**\n",
       "While powerful, its syntax can be a bit quirkier for an absolute beginner than Python's, and the concepts of asynchronous programming and the Document Object Model (DOM) can add complexity early on. While JavaScript *can* do AI/ML (e.g., TensorFlow.js), Python remains the dominant and more mature ecosystem for core AI research and development.\n",
       "\n",
       "**Recommendation:** Learn Python first to get a solid programming foundation. If you then discover a strong passion for web development and building interactive interfaces, JavaScript would be your next logical step. The two languages complement each other well.\n",
       "\n",
       "---\n",
       "\n",
       "### Understanding **c) Learn Vertex AI**\n",
       "\n",
       "**Why (and why not first)?**\n",
       "\n",
       "*   **What it is:** Vertex AI isn't a programming language itself. It's a **platform** offered by Google Cloud for **developing, deploying, and managing machine learning models.** Think of it as a sophisticated toolbox and workshop specifically designed for AI projects in the cloud.\n",
       "*   **Applying AI, Not Building From Scratch:** When you use Vertex AI, you're typically using pre-built components or deploying models that you've *already developed* using a programming language like Python. You're working at a higher level of abstraction.\n",
       "*   **Industry Relevance:** If you aim to work as an ML Engineer or Data Scientist in a cloud-native environment, understanding platforms like Vertex AI (or AWS SageMaker, Azure ML) is crucial for deploying and managing models at scale.\n",
       "\n",
       "**Why not *first* for a high school student?**\n",
       "Learning Vertex AI as your very first step in tech would be like trying to learn how to operate a complex factory assembly line before you even know how to use a screwdriver or understand how the products are made.\n",
       "\n",
       "*   **Requires Foundational Knowledge:** To effectively use Vertex AI, you need a strong understanding of:\n",
       "    *   A programming language (primarily Python for ML).\n",
       "    *   Basic machine learning concepts (what a model is, training, evaluation, deployment).\n",
       "    *   Cloud computing fundamentals.\n",
       "*   **Too Specific, Not Foundational:** It's a specialized tool for a specialized task. It won't teach you general programming logic or algorithms.\n",
       "\n",
       "**Recommendation:** Vertex AI is an excellent **next step** *after* you have learned Python and gained a solid understanding of machine learning principles. It's how you'd take your Python-built AI models and put them into production in a real-world, scalable environment.\n",
       "\n",
       "---\n",
       "\n",
       "### **My Overall Recommendation (in short):**\n",
       "\n",
       "**Start with Python.** It will give you the broadest, most accessible, and most foundational programming skills, especially if your interest is leaning towards AI. Once you have a good grasp of Python and some basic AI/ML concepts, then consider:\n",
       "\n",
       "1.  **JavaScript** if you want to build interactive web applications.\n",
       "2.  **Vertex AI** (or similar cloud ML platforms) if you want to take your Python-built AI models and deploy them professionally in the cloud.\n",
       "\n",
       "Good luck on your learning journey! It's an exciting field to be in."
      ],
      "text/plain": [
       "<IPython.core.display.Markdown object>"
      ]
     },
     "metadata": {},
     "output_type": "display_data"
    }
   ],
   "source": [
    "prompt = \"\"\"I'm a high school student. Which of these activities do you suggest and why:\n",
    "a) learn Python\n",
    "b) learn JavaScript\n",
    "c) learn vertex AI\n",
    "\"\"\"\n",
    "\n",
    "response = client.models.generate_content(model=MODEL_ID, contents=prompt)\n",
    "display(Markdown(response.text))"
   ]
  },
  {
   "cell_type": "markdown",
   "metadata": {
    "id": "iTd60b1GdIsx"
   },
   "source": [
    "### Improve response quality by including examples"
   ]
  },
  {
   "cell_type": "markdown",
   "metadata": {
    "id": "yJi44NejdJYE"
   },
   "source": [
    "Another way to improve response quality is to add examples in your prompt. The LLM learns in-context from the examples on how to respond. Typically, one to five examples (shots) are enough to improve the quality of responses. Including too many examples can cause the model to over-fit the data and reduce the quality of responses.\n",
    "\n",
    "Similar to classical model training, the quality and distribution of the examples is very important. Pick examples that are representative of the scenarios that you need the model to learn, and keep the distribution of the examples (e.g. number of examples per class in the case of classification) aligned with your actual distribution."
   ]
  },
  {
   "cell_type": "markdown",
   "metadata": {
    "id": "sMbLginWdOKs"
   },
   "source": [
    "#### Zero-shot prompt"
   ]
  },
  {
   "cell_type": "markdown",
   "metadata": {
    "id": "Crh2Loi2dQ0v"
   },
   "source": [
    "Below is an example of zero-shot prompting, where you don't provide any examples to the LLM within the prompt itself."
   ]
  },
  {
   "cell_type": "code",
   "execution_count": 22,
   "metadata": {
    "id": "-7myRc-SdTQ4",
    "tags": []
   },
   "outputs": [
    {
     "data": {
      "text/markdown": [
       "Positive"
      ],
      "text/plain": [
       "<IPython.core.display.Markdown object>"
      ]
     },
     "metadata": {},
     "output_type": "display_data"
    }
   ],
   "source": [
    "prompt = \"\"\"Decide whether a Tweet's sentiment is positive, neutral, or negative.\n",
    "\n",
    "Tweet: I loved the new YouTube video you made!\n",
    "Sentiment:\n",
    "\"\"\"\n",
    "\n",
    "response = client.models.generate_content(model=MODEL_ID, contents=prompt)\n",
    "display(Markdown(response.text))"
   ]
  },
  {
   "cell_type": "markdown",
   "metadata": {
    "id": "ucRtPn9SdL64"
   },
   "source": [
    "#### One-shot prompt"
   ]
  },
  {
   "cell_type": "markdown",
   "metadata": {
    "id": "rs0gQH2vdYBi"
   },
   "source": [
    "Below is an example of one-shot prompting, where you provide one example to the LLM within the prompt to give some guidance on what type of response you want."
   ]
  },
  {
   "cell_type": "code",
   "execution_count": 23,
   "metadata": {
    "id": "iEq-KxGYdaT5",
    "tags": []
   },
   "outputs": [
    {
     "data": {
      "text/markdown": [
       "negative"
      ],
      "text/plain": [
       "<IPython.core.display.Markdown object>"
      ]
     },
     "metadata": {},
     "output_type": "display_data"
    }
   ],
   "source": [
    "prompt = \"\"\"Decide whether a Tweet's sentiment is positive, neutral, or negative.\n",
    "\n",
    "Tweet: I loved the new YouTube video you made!\n",
    "Sentiment: positive\n",
    "\n",
    "Tweet: That was awful. Super boring 😠\n",
    "Sentiment:\n",
    "\"\"\"\n",
    "\n",
    "response = client.models.generate_content(model=MODEL_ID, contents=prompt)\n",
    "display(Markdown(response.text))"
   ]
  },
  {
   "cell_type": "markdown",
   "metadata": {
    "id": "JnKLjJzmdfL_"
   },
   "source": [
    "#### Few-shot prompt"
   ]
  },
  {
   "cell_type": "markdown",
   "metadata": {
    "id": "6Zv-9F5OdgI_"
   },
   "source": [
    "Below is an example of few-shot prompting, where you provide a few examples to the LLM within the prompt to give some guidance on what type of response you want."
   ]
  },
  {
   "cell_type": "code",
   "execution_count": 24,
   "metadata": {
    "id": "u37P9tG4dk9S",
    "tags": []
   },
   "outputs": [
    {
     "data": {
      "text/markdown": [
       "positive"
      ],
      "text/plain": [
       "<IPython.core.display.Markdown object>"
      ]
     },
     "metadata": {},
     "output_type": "display_data"
    }
   ],
   "source": [
    "prompt = \"\"\"Decide whether a Tweet's sentiment is positive, neutral, or negative.\n",
    "\n",
    "Tweet: I loved the new YouTube video you made!\n",
    "Sentiment: positive\n",
    "\n",
    "Tweet: That was awful. Super boring 😠\n",
    "Sentiment: negative\n",
    "\n",
    "Tweet: Something surprised me about this video - it was actually original. It was not the same old recycled stuff that I always see. Watch it - you will not regret it.\n",
    "Sentiment:\n",
    "\"\"\"\n",
    "\n",
    "response = client.models.generate_content(model=MODEL_ID, contents=prompt)\n",
    "display(Markdown(response.text))"
   ]
  },
  {
   "cell_type": "markdown",
   "metadata": {
    "id": "wDMD3xb2dvX6"
   },
   "source": [
    "#### Choosing between zero-shot, one-shot, few-shot prompting methods"
   ]
  },
  {
   "cell_type": "markdown",
   "metadata": {
    "id": "s92W0YpNdxJp"
   },
   "source": [
    "Which prompt technique to use will solely depends on your goal. The zero-shot prompts are more open-ended and can give you creative answers, while one-shot and few-shot prompts teach the model how to behave so you can get more predictable answers that are consistent with the examples provided."
   ]
  },
  {
   "cell_type": "code",
   "execution_count": null,
   "metadata": {},
   "outputs": [],
   "source": []
  }
 ],
 "metadata": {
  "colab": {
   "name": "intro_prompt_design.ipynb",
   "toc_visible": true
  },
  "environment": {
   "kernel": "conda-base-py",
   "name": "workbench-notebooks.m132",
   "type": "gcloud",
   "uri": "us-docker.pkg.dev/deeplearning-platform-release/gcr.io/workbench-notebooks:m132"
  },
  "kernelspec": {
   "display_name": "Python 3 (ipykernel) (Local)",
   "language": "python",
   "name": "conda-base-py"
  },
  "language_info": {
   "codemirror_mode": {
    "name": "ipython",
    "version": 3
   },
   "file_extension": ".py",
   "mimetype": "text/x-python",
   "name": "python",
   "nbconvert_exporter": "python",
   "pygments_lexer": "ipython3",
   "version": "3.10.18"
  }
 },
 "nbformat": 4,
 "nbformat_minor": 4
}
